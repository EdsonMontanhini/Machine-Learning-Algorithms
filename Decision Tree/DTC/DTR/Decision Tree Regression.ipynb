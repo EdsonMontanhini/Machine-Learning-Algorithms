{
 "cells": [
  {
   "cell_type": "markdown",
   "id": "56952631",
   "metadata": {},
   "source": [
    "## Machine Learning"
   ]
  },
  {
   "cell_type": "markdown",
   "id": "13026b81",
   "metadata": {},
   "source": [
    "## Decision Tree Regression\n",
    "\n",
    "### individual household electric power consumption dataset"
   ]
  },
  {
   "cell_type": "markdown",
   "id": "9cd4da14",
   "metadata": {},
   "source": [
    "#### Dharavath Ramdas"
   ]
  },
  {
   "cell_type": "markdown",
   "id": "38d65549",
   "metadata": {},
   "source": [
    "Dataset and code link: https://github.com/dharavathramdas101/Machine-learning-Algorithms-Practical-implementation"
   ]
  },
  {
   "cell_type": "code",
   "execution_count": 1,
   "id": "b44de4b1",
   "metadata": {},
   "outputs": [],
   "source": [
    "### Pandas and Numpy\n",
    "import pandas as pd\n",
    "import numpy as np\n",
    "\n",
    "### Visualisation libraries\n",
    "import seaborn as sns\n",
    "import matplotlib.pyplot as plt\n",
    "%matplotlib inline\n",
    "\n",
    "### To ignore warnings\n",
    "import warnings\n",
    "warnings.filterwarnings('ignore')"
   ]
  },
  {
   "cell_type": "markdown",
   "id": "bd8d1ddc",
   "metadata": {},
   "source": [
    "## Load the data"
   ]
  },
  {
   "cell_type": "code",
   "execution_count": 2,
   "id": "09dc3a29",
   "metadata": {},
   "outputs": [],
   "source": [
    "df= pd.read_csv(r\"C:\\Users\\DHARAVATH RAMDAS\\Downloads\\household_power_consumption\\household_power_consumption.txt\",sep=\";\")"
   ]
  },
  {
   "cell_type": "code",
   "execution_count": 3,
   "id": "7b512700",
   "metadata": {},
   "outputs": [
    {
     "name": "stdout",
     "output_type": "stream",
     "text": [
      "<class 'pandas.core.frame.DataFrame'>\n",
      "RangeIndex: 2075259 entries, 0 to 2075258\n",
      "Data columns (total 9 columns):\n",
      " #   Column                 Dtype  \n",
      "---  ------                 -----  \n",
      " 0   Date                   object \n",
      " 1   Time                   object \n",
      " 2   Global_active_power    object \n",
      " 3   Global_reactive_power  object \n",
      " 4   Voltage                object \n",
      " 5   Global_intensity       object \n",
      " 6   Sub_metering_1         object \n",
      " 7   Sub_metering_2         object \n",
      " 8   Sub_metering_3         float64\n",
      "dtypes: float64(1), object(8)\n",
      "memory usage: 142.5+ MB\n"
     ]
    }
   ],
   "source": [
    "df.info()"
   ]
  },
  {
   "cell_type": "markdown",
   "id": "1f52cba6",
   "metadata": {},
   "source": [
    "## merging two calloumns date and time and # missing values"
   ]
  },
  {
   "cell_type": "code",
   "execution_count": 5,
   "id": "741c3b00",
   "metadata": {},
   "outputs": [],
   "source": [
    "df = pd.read_csv(r\"C:\\Users\\DHARAVATH RAMDAS\\Downloads\\household_power_consumption\\household_power_consumption.txt\",sep=\";\",parse_dates={'dt':['Date','Time']}, infer_datetime_format= True, low_memory=False,na_values=['nan','?'],index_col='dt')"
   ]
  },
  {
   "cell_type": "markdown",
   "id": "b9f601ee",
   "metadata": {},
   "source": [
    "## taking sample dat 50,000"
   ]
  },
  {
   "cell_type": "code",
   "execution_count": 6,
   "id": "77fe7368",
   "metadata": {},
   "outputs": [
    {
     "data": {
      "text/html": [
       "<div>\n",
       "<style scoped>\n",
       "    .dataframe tbody tr th:only-of-type {\n",
       "        vertical-align: middle;\n",
       "    }\n",
       "\n",
       "    .dataframe tbody tr th {\n",
       "        vertical-align: top;\n",
       "    }\n",
       "\n",
       "    .dataframe thead th {\n",
       "        text-align: right;\n",
       "    }\n",
       "</style>\n",
       "<table border=\"1\" class=\"dataframe\">\n",
       "  <thead>\n",
       "    <tr style=\"text-align: right;\">\n",
       "      <th></th>\n",
       "      <th>Global_active_power</th>\n",
       "      <th>Global_reactive_power</th>\n",
       "      <th>Voltage</th>\n",
       "      <th>Global_intensity</th>\n",
       "      <th>Sub_metering_1</th>\n",
       "      <th>Sub_metering_2</th>\n",
       "      <th>Sub_metering_3</th>\n",
       "    </tr>\n",
       "    <tr>\n",
       "      <th>dt</th>\n",
       "      <th></th>\n",
       "      <th></th>\n",
       "      <th></th>\n",
       "      <th></th>\n",
       "      <th></th>\n",
       "      <th></th>\n",
       "      <th></th>\n",
       "    </tr>\n",
       "  </thead>\n",
       "  <tbody>\n",
       "    <tr>\n",
       "      <th>2008-10-20 13:32:00</th>\n",
       "      <td>0.342</td>\n",
       "      <td>0.092</td>\n",
       "      <td>241.44</td>\n",
       "      <td>1.4</td>\n",
       "      <td>0.0</td>\n",
       "      <td>0.0</td>\n",
       "      <td>1.0</td>\n",
       "    </tr>\n",
       "    <tr>\n",
       "      <th>2008-01-15 03:55:00</th>\n",
       "      <td>0.342</td>\n",
       "      <td>0.000</td>\n",
       "      <td>244.62</td>\n",
       "      <td>1.6</td>\n",
       "      <td>0.0</td>\n",
       "      <td>0.0</td>\n",
       "      <td>0.0</td>\n",
       "    </tr>\n",
       "    <tr>\n",
       "      <th>2010-11-05 04:09:00</th>\n",
       "      <td>0.424</td>\n",
       "      <td>0.150</td>\n",
       "      <td>248.37</td>\n",
       "      <td>1.8</td>\n",
       "      <td>0.0</td>\n",
       "      <td>0.0</td>\n",
       "      <td>1.0</td>\n",
       "    </tr>\n",
       "    <tr>\n",
       "      <th>2010-04-17 05:58:00</th>\n",
       "      <td>0.254</td>\n",
       "      <td>0.052</td>\n",
       "      <td>239.96</td>\n",
       "      <td>1.0</td>\n",
       "      <td>0.0</td>\n",
       "      <td>0.0</td>\n",
       "      <td>1.0</td>\n",
       "    </tr>\n",
       "    <tr>\n",
       "      <th>2008-02-19 14:23:00</th>\n",
       "      <td>1.400</td>\n",
       "      <td>0.000</td>\n",
       "      <td>243.44</td>\n",
       "      <td>5.8</td>\n",
       "      <td>0.0</td>\n",
       "      <td>0.0</td>\n",
       "      <td>18.0</td>\n",
       "    </tr>\n",
       "  </tbody>\n",
       "</table>\n",
       "</div>"
      ],
      "text/plain": [
       "                     Global_active_power  Global_reactive_power  Voltage  \\\n",
       "dt                                                                         \n",
       "2008-10-20 13:32:00                0.342                  0.092   241.44   \n",
       "2008-01-15 03:55:00                0.342                  0.000   244.62   \n",
       "2010-11-05 04:09:00                0.424                  0.150   248.37   \n",
       "2010-04-17 05:58:00                0.254                  0.052   239.96   \n",
       "2008-02-19 14:23:00                1.400                  0.000   243.44   \n",
       "\n",
       "                     Global_intensity  Sub_metering_1  Sub_metering_2  \\\n",
       "dt                                                                      \n",
       "2008-10-20 13:32:00               1.4             0.0             0.0   \n",
       "2008-01-15 03:55:00               1.6             0.0             0.0   \n",
       "2010-11-05 04:09:00               1.8             0.0             0.0   \n",
       "2010-04-17 05:58:00               1.0             0.0             0.0   \n",
       "2008-02-19 14:23:00               5.8             0.0             0.0   \n",
       "\n",
       "                     Sub_metering_3  \n",
       "dt                                   \n",
       "2008-10-20 13:32:00             1.0  \n",
       "2008-01-15 03:55:00             0.0  \n",
       "2010-11-05 04:09:00             1.0  \n",
       "2010-04-17 05:58:00             1.0  \n",
       "2008-02-19 14:23:00            18.0  "
      ]
     },
     "execution_count": 6,
     "metadata": {},
     "output_type": "execute_result"
    }
   ],
   "source": [
    "dfs = df.sample(n=50000,replace=False)\n",
    "dfs.head()"
   ]
  },
  {
   "cell_type": "code",
   "execution_count": 7,
   "id": "8ba8b1a7",
   "metadata": {},
   "outputs": [
    {
     "name": "stdout",
     "output_type": "stream",
     "text": [
      "<class 'pandas.core.frame.DataFrame'>\n",
      "DatetimeIndex: 50000 entries, 2008-10-20 13:32:00 to 2007-12-07 11:22:00\n",
      "Data columns (total 7 columns):\n",
      " #   Column                 Non-Null Count  Dtype  \n",
      "---  ------                 --------------  -----  \n",
      " 0   Global_active_power    49350 non-null  float64\n",
      " 1   Global_reactive_power  49350 non-null  float64\n",
      " 2   Voltage                49350 non-null  float64\n",
      " 3   Global_intensity       49350 non-null  float64\n",
      " 4   Sub_metering_1         49350 non-null  float64\n",
      " 5   Sub_metering_2         49350 non-null  float64\n",
      " 6   Sub_metering_3         49350 non-null  float64\n",
      "dtypes: float64(7)\n",
      "memory usage: 3.1 MB\n"
     ]
    }
   ],
   "source": [
    "dfs.info()"
   ]
  },
  {
   "cell_type": "code",
   "execution_count": 8,
   "id": "8a17e93f",
   "metadata": {},
   "outputs": [
    {
     "data": {
      "text/plain": [
       "Global_active_power      650\n",
       "Global_reactive_power    650\n",
       "Voltage                  650\n",
       "Global_intensity         650\n",
       "Sub_metering_1           650\n",
       "Sub_metering_2           650\n",
       "Sub_metering_3           650\n",
       "dtype: int64"
      ]
     },
     "execution_count": 8,
     "metadata": {},
     "output_type": "execute_result"
    }
   ],
   "source": [
    "# count the number of null values\n",
    "dfs.isnull().sum()"
   ]
  },
  {
   "cell_type": "code",
   "execution_count": 9,
   "id": "5adccb80",
   "metadata": {},
   "outputs": [
    {
     "data": {
      "text/plain": [
       "4550"
      ]
     },
     "execution_count": 9,
     "metadata": {},
     "output_type": "execute_result"
    }
   ],
   "source": [
    "dfs.isnull().sum().sum()"
   ]
  },
  {
   "cell_type": "markdown",
   "id": "bbc0384a",
   "metadata": {},
   "source": [
    "### fill nan values"
   ]
  },
  {
   "cell_type": "markdown",
   "id": "93795752",
   "metadata": {},
   "source": [
    "    There are multiple ways to handle and fill missing values like mean, median, forward fill, backward fill, scikit learn Imputer methods, etc.\n",
    "\n",
    "    For this problem, we will either use forward fill or backward fill. Reason: The records ahving null values are in between and the power used is recorded at every minute for 3-4 years. ffill() will fill last valid observation in next found Null record"
   ]
  },
  {
   "cell_type": "code",
   "execution_count": 11,
   "id": "20740591",
   "metadata": {},
   "outputs": [],
   "source": [
    "dfs.ffill(axis=0,inplace=True)"
   ]
  },
  {
   "cell_type": "code",
   "execution_count": 12,
   "id": "4dcff073",
   "metadata": {},
   "outputs": [
    {
     "data": {
      "text/plain": [
       "Global_active_power      0\n",
       "Global_reactive_power    0\n",
       "Voltage                  0\n",
       "Global_intensity         0\n",
       "Sub_metering_1           0\n",
       "Sub_metering_2           0\n",
       "Sub_metering_3           0\n",
       "dtype: int64"
      ]
     },
     "execution_count": 12,
     "metadata": {},
     "output_type": "execute_result"
    }
   ],
   "source": [
    "dfs.isnull().sum()"
   ]
  },
  {
   "cell_type": "code",
   "execution_count": 13,
   "id": "3a0dd579",
   "metadata": {},
   "outputs": [
    {
     "name": "stdout",
     "output_type": "stream",
     "text": [
      "<class 'pandas.core.frame.DataFrame'>\n",
      "DatetimeIndex: 50000 entries, 2008-10-20 13:32:00 to 2007-12-07 11:22:00\n",
      "Data columns (total 7 columns):\n",
      " #   Column                 Non-Null Count  Dtype  \n",
      "---  ------                 --------------  -----  \n",
      " 0   Global_active_power    50000 non-null  float64\n",
      " 1   Global_reactive_power  50000 non-null  float64\n",
      " 2   Voltage                50000 non-null  float64\n",
      " 3   Global_intensity       50000 non-null  float64\n",
      " 4   Sub_metering_1         50000 non-null  float64\n",
      " 5   Sub_metering_2         50000 non-null  float64\n",
      " 6   Sub_metering_3         50000 non-null  float64\n",
      "dtypes: float64(7)\n",
      "memory usage: 3.1 MB\n"
     ]
    }
   ],
   "source": [
    "dfs.info()"
   ]
  },
  {
   "cell_type": "markdown",
   "id": "2e375a70",
   "metadata": {},
   "source": [
    "### Creating target variable"
   ]
  },
  {
   "cell_type": "code",
   "execution_count": 15,
   "id": "4a82dbcc",
   "metadata": {},
   "outputs": [
    {
     "data": {
      "text/html": [
       "<div>\n",
       "<style scoped>\n",
       "    .dataframe tbody tr th:only-of-type {\n",
       "        vertical-align: middle;\n",
       "    }\n",
       "\n",
       "    .dataframe tbody tr th {\n",
       "        vertical-align: top;\n",
       "    }\n",
       "\n",
       "    .dataframe thead th {\n",
       "        text-align: right;\n",
       "    }\n",
       "</style>\n",
       "<table border=\"1\" class=\"dataframe\">\n",
       "  <thead>\n",
       "    <tr style=\"text-align: right;\">\n",
       "      <th></th>\n",
       "      <th>Global_active_power</th>\n",
       "      <th>Global_reactive_power</th>\n",
       "      <th>Voltage</th>\n",
       "      <th>Global_intensity</th>\n",
       "      <th>Sub_metering_1</th>\n",
       "      <th>Sub_metering_2</th>\n",
       "      <th>Sub_metering_3</th>\n",
       "      <th>power_consumption</th>\n",
       "    </tr>\n",
       "    <tr>\n",
       "      <th>dt</th>\n",
       "      <th></th>\n",
       "      <th></th>\n",
       "      <th></th>\n",
       "      <th></th>\n",
       "      <th></th>\n",
       "      <th></th>\n",
       "      <th></th>\n",
       "      <th></th>\n",
       "    </tr>\n",
       "  </thead>\n",
       "  <tbody>\n",
       "    <tr>\n",
       "      <th>2008-10-20 13:32:00</th>\n",
       "      <td>0.342</td>\n",
       "      <td>0.092</td>\n",
       "      <td>241.44</td>\n",
       "      <td>1.4</td>\n",
       "      <td>0.0</td>\n",
       "      <td>0.0</td>\n",
       "      <td>1.0</td>\n",
       "      <td>4.700000</td>\n",
       "    </tr>\n",
       "    <tr>\n",
       "      <th>2008-01-15 03:55:00</th>\n",
       "      <td>0.342</td>\n",
       "      <td>0.000</td>\n",
       "      <td>244.62</td>\n",
       "      <td>1.6</td>\n",
       "      <td>0.0</td>\n",
       "      <td>0.0</td>\n",
       "      <td>0.0</td>\n",
       "      <td>5.700000</td>\n",
       "    </tr>\n",
       "    <tr>\n",
       "      <th>2010-11-05 04:09:00</th>\n",
       "      <td>0.424</td>\n",
       "      <td>0.150</td>\n",
       "      <td>248.37</td>\n",
       "      <td>1.8</td>\n",
       "      <td>0.0</td>\n",
       "      <td>0.0</td>\n",
       "      <td>1.0</td>\n",
       "      <td>6.066667</td>\n",
       "    </tr>\n",
       "    <tr>\n",
       "      <th>2010-04-17 05:58:00</th>\n",
       "      <td>0.254</td>\n",
       "      <td>0.052</td>\n",
       "      <td>239.96</td>\n",
       "      <td>1.0</td>\n",
       "      <td>0.0</td>\n",
       "      <td>0.0</td>\n",
       "      <td>1.0</td>\n",
       "      <td>3.233333</td>\n",
       "    </tr>\n",
       "    <tr>\n",
       "      <th>2008-02-19 14:23:00</th>\n",
       "      <td>1.400</td>\n",
       "      <td>0.000</td>\n",
       "      <td>243.44</td>\n",
       "      <td>5.8</td>\n",
       "      <td>0.0</td>\n",
       "      <td>0.0</td>\n",
       "      <td>18.0</td>\n",
       "      <td>5.333333</td>\n",
       "    </tr>\n",
       "  </tbody>\n",
       "</table>\n",
       "</div>"
      ],
      "text/plain": [
       "                     Global_active_power  Global_reactive_power  Voltage  \\\n",
       "dt                                                                         \n",
       "2008-10-20 13:32:00                0.342                  0.092   241.44   \n",
       "2008-01-15 03:55:00                0.342                  0.000   244.62   \n",
       "2010-11-05 04:09:00                0.424                  0.150   248.37   \n",
       "2010-04-17 05:58:00                0.254                  0.052   239.96   \n",
       "2008-02-19 14:23:00                1.400                  0.000   243.44   \n",
       "\n",
       "                     Global_intensity  Sub_metering_1  Sub_metering_2  \\\n",
       "dt                                                                      \n",
       "2008-10-20 13:32:00               1.4             0.0             0.0   \n",
       "2008-01-15 03:55:00               1.6             0.0             0.0   \n",
       "2010-11-05 04:09:00               1.8             0.0             0.0   \n",
       "2010-04-17 05:58:00               1.0             0.0             0.0   \n",
       "2008-02-19 14:23:00               5.8             0.0             0.0   \n",
       "\n",
       "                     Sub_metering_3  power_consumption  \n",
       "dt                                                      \n",
       "2008-10-20 13:32:00             1.0           4.700000  \n",
       "2008-01-15 03:55:00             0.0           5.700000  \n",
       "2010-11-05 04:09:00             1.0           6.066667  \n",
       "2010-04-17 05:58:00             1.0           3.233333  \n",
       "2008-02-19 14:23:00            18.0           5.333333  "
      ]
     },
     "execution_count": 15,
     "metadata": {},
     "output_type": "execute_result"
    }
   ],
   "source": [
    "gap = (dfs['Global_active_power']*1000/60)\n",
    "smt = dfs['Sub_metering_1'] + dfs['Sub_metering_2'] + dfs['Sub_metering_3']\n",
    "dfs['power_consumption'] = gap - smt\n",
    "dfs.head()"
   ]
  },
  {
   "cell_type": "markdown",
   "id": "43c27cc7",
   "metadata": {},
   "source": [
    "## Creating two more columns form index,date and time column seperately\n",
    "\n",
    "    With the help of this new column 'Date', it will be easier to do grouping on the data which willl ease the work of Visualization for better understanding on Data¶"
   ]
  },
  {
   "cell_type": "code",
   "execution_count": 16,
   "id": "e89416a2",
   "metadata": {},
   "outputs": [],
   "source": [
    "dfs['Date'] = dfs.index.date\n",
    "dfs['time'] = dfs.index.time"
   ]
  },
  {
   "cell_type": "markdown",
   "id": "14ef57ea",
   "metadata": {},
   "source": [
    "### converting date datatype from object to datetime"
   ]
  },
  {
   "cell_type": "code",
   "execution_count": 18,
   "id": "483b79bd",
   "metadata": {},
   "outputs": [],
   "source": [
    "dfs['Date'] = pd.to_datetime(dfs['Date'])"
   ]
  },
  {
   "cell_type": "markdown",
   "id": "79d70c6b",
   "metadata": {},
   "source": [
    "### Check the data type of all columns"
   ]
  },
  {
   "cell_type": "code",
   "execution_count": 20,
   "id": "3ac929c3",
   "metadata": {},
   "outputs": [
    {
     "name": "stdout",
     "output_type": "stream",
     "text": [
      "<class 'pandas.core.frame.DataFrame'>\n",
      "DatetimeIndex: 50000 entries, 2008-10-20 13:32:00 to 2007-12-07 11:22:00\n",
      "Data columns (total 10 columns):\n",
      " #   Column                 Non-Null Count  Dtype         \n",
      "---  ------                 --------------  -----         \n",
      " 0   Global_active_power    50000 non-null  float64       \n",
      " 1   Global_reactive_power  50000 non-null  float64       \n",
      " 2   Voltage                50000 non-null  float64       \n",
      " 3   Global_intensity       50000 non-null  float64       \n",
      " 4   Sub_metering_1         50000 non-null  float64       \n",
      " 5   Sub_metering_2         50000 non-null  float64       \n",
      " 6   Sub_metering_3         50000 non-null  float64       \n",
      " 7   power_consumption      50000 non-null  float64       \n",
      " 8   Date                   50000 non-null  datetime64[ns]\n",
      " 9   time                   50000 non-null  object        \n",
      "dtypes: datetime64[ns](1), float64(8), object(1)\n",
      "memory usage: 4.2+ MB\n"
     ]
    }
   ],
   "source": [
    "dfs.info()"
   ]
  },
  {
   "cell_type": "markdown",
   "id": "799e6f9d",
   "metadata": {},
   "source": [
    "## Grouping the entire data by date"
   ]
  },
  {
   "cell_type": "code",
   "execution_count": 22,
   "id": "136ce753",
   "metadata": {},
   "outputs": [],
   "source": [
    "df_data = dfs.groupby(['Date']).sum()"
   ]
  },
  {
   "cell_type": "markdown",
   "id": "9dccf58c",
   "metadata": {},
   "source": [
    "## checking wether the data is grouped day-wise"
   ]
  },
  {
   "cell_type": "code",
   "execution_count": 24,
   "id": "4f4a2762",
   "metadata": {},
   "outputs": [
    {
     "data": {
      "text/html": [
       "<div>\n",
       "<style scoped>\n",
       "    .dataframe tbody tr th:only-of-type {\n",
       "        vertical-align: middle;\n",
       "    }\n",
       "\n",
       "    .dataframe tbody tr th {\n",
       "        vertical-align: top;\n",
       "    }\n",
       "\n",
       "    .dataframe thead th {\n",
       "        text-align: right;\n",
       "    }\n",
       "</style>\n",
       "<table border=\"1\" class=\"dataframe\">\n",
       "  <thead>\n",
       "    <tr style=\"text-align: right;\">\n",
       "      <th></th>\n",
       "      <th>Global_active_power</th>\n",
       "      <th>Global_reactive_power</th>\n",
       "      <th>Voltage</th>\n",
       "      <th>Global_intensity</th>\n",
       "      <th>Sub_metering_1</th>\n",
       "      <th>Sub_metering_2</th>\n",
       "      <th>Sub_metering_3</th>\n",
       "      <th>power_consumption</th>\n",
       "    </tr>\n",
       "    <tr>\n",
       "      <th>Date</th>\n",
       "      <th></th>\n",
       "      <th></th>\n",
       "      <th></th>\n",
       "      <th></th>\n",
       "      <th></th>\n",
       "      <th></th>\n",
       "      <th></th>\n",
       "      <th></th>\n",
       "    </tr>\n",
       "  </thead>\n",
       "  <tbody>\n",
       "    <tr>\n",
       "      <th>2006-12-16</th>\n",
       "      <td>56.632</td>\n",
       "      <td>2.046</td>\n",
       "      <td>4486.68</td>\n",
       "      <td>243.0</td>\n",
       "      <td>0.0</td>\n",
       "      <td>30.0</td>\n",
       "      <td>234.0</td>\n",
       "      <td>679.866667</td>\n",
       "    </tr>\n",
       "    <tr>\n",
       "      <th>2006-12-17</th>\n",
       "      <td>105.136</td>\n",
       "      <td>7.730</td>\n",
       "      <td>11793.05</td>\n",
       "      <td>446.4</td>\n",
       "      <td>77.0</td>\n",
       "      <td>47.0</td>\n",
       "      <td>436.0</td>\n",
       "      <td>1192.266667</td>\n",
       "    </tr>\n",
       "    <tr>\n",
       "      <th>2006-12-18</th>\n",
       "      <td>49.730</td>\n",
       "      <td>4.458</td>\n",
       "      <td>9180.73</td>\n",
       "      <td>208.0</td>\n",
       "      <td>2.0</td>\n",
       "      <td>11.0</td>\n",
       "      <td>353.0</td>\n",
       "      <td>462.833333</td>\n",
       "    </tr>\n",
       "    <tr>\n",
       "      <th>2006-12-19</th>\n",
       "      <td>37.156</td>\n",
       "      <td>3.620</td>\n",
       "      <td>9444.07</td>\n",
       "      <td>158.0</td>\n",
       "      <td>0.0</td>\n",
       "      <td>146.0</td>\n",
       "      <td>149.0</td>\n",
       "      <td>324.266667</td>\n",
       "    </tr>\n",
       "    <tr>\n",
       "      <th>2006-12-20</th>\n",
       "      <td>59.236</td>\n",
       "      <td>5.108</td>\n",
       "      <td>10198.93</td>\n",
       "      <td>247.0</td>\n",
       "      <td>0.0</td>\n",
       "      <td>7.0</td>\n",
       "      <td>411.0</td>\n",
       "      <td>569.266667</td>\n",
       "    </tr>\n",
       "  </tbody>\n",
       "</table>\n",
       "</div>"
      ],
      "text/plain": [
       "            Global_active_power  Global_reactive_power   Voltage  \\\n",
       "Date                                                               \n",
       "2006-12-16               56.632                  2.046   4486.68   \n",
       "2006-12-17              105.136                  7.730  11793.05   \n",
       "2006-12-18               49.730                  4.458   9180.73   \n",
       "2006-12-19               37.156                  3.620   9444.07   \n",
       "2006-12-20               59.236                  5.108  10198.93   \n",
       "\n",
       "            Global_intensity  Sub_metering_1  Sub_metering_2  Sub_metering_3  \\\n",
       "Date                                                                           \n",
       "2006-12-16             243.0             0.0            30.0           234.0   \n",
       "2006-12-17             446.4            77.0            47.0           436.0   \n",
       "2006-12-18             208.0             2.0            11.0           353.0   \n",
       "2006-12-19             158.0             0.0           146.0           149.0   \n",
       "2006-12-20             247.0             0.0             7.0           411.0   \n",
       "\n",
       "            power_consumption  \n",
       "Date                           \n",
       "2006-12-16         679.866667  \n",
       "2006-12-17        1192.266667  \n",
       "2006-12-18         462.833333  \n",
       "2006-12-19         324.266667  \n",
       "2006-12-20         569.266667  "
      ]
     },
     "execution_count": 24,
     "metadata": {},
     "output_type": "execute_result"
    }
   ],
   "source": [
    "df_data.head()"
   ]
  },
  {
   "cell_type": "markdown",
   "id": "af4437ee",
   "metadata": {},
   "source": [
    "## Check the shape"
   ]
  },
  {
   "cell_type": "code",
   "execution_count": 26,
   "id": "6f38ffb8",
   "metadata": {},
   "outputs": [
    {
     "data": {
      "text/plain": [
       "(50000, 10)"
      ]
     },
     "execution_count": 26,
     "metadata": {},
     "output_type": "execute_result"
    }
   ],
   "source": [
    "dfs.shape"
   ]
  },
  {
   "cell_type": "code",
   "execution_count": 27,
   "id": "e22042b8",
   "metadata": {},
   "outputs": [],
   "source": [
    "## Creating sub_dataframe of power consuption\n",
    "\n",
    "    ##### Every 1 Watt-hour = 0.001 Kilowatt-hour. Example: 25000 Watt-hour = 25000 multiplied by 0.001 = 25 Kilowatt-hour.\n",
    "\n",
    "df_power_consumption = df_data[['power_consumption']]"
   ]
  },
  {
   "cell_type": "code",
   "execution_count": 28,
   "id": "6ba35234",
   "metadata": {},
   "outputs": [
    {
     "data": {
      "text/html": [
       "<div>\n",
       "<style scoped>\n",
       "    .dataframe tbody tr th:only-of-type {\n",
       "        vertical-align: middle;\n",
       "    }\n",
       "\n",
       "    .dataframe tbody tr th {\n",
       "        vertical-align: top;\n",
       "    }\n",
       "\n",
       "    .dataframe thead th {\n",
       "        text-align: right;\n",
       "    }\n",
       "</style>\n",
       "<table border=\"1\" class=\"dataframe\">\n",
       "  <thead>\n",
       "    <tr style=\"text-align: right;\">\n",
       "      <th></th>\n",
       "      <th>power_consumption</th>\n",
       "    </tr>\n",
       "    <tr>\n",
       "      <th>Date</th>\n",
       "      <th></th>\n",
       "    </tr>\n",
       "  </thead>\n",
       "  <tbody>\n",
       "    <tr>\n",
       "      <th>2006-12-16</th>\n",
       "      <td>679.866667</td>\n",
       "    </tr>\n",
       "    <tr>\n",
       "      <th>2006-12-17</th>\n",
       "      <td>1192.266667</td>\n",
       "    </tr>\n",
       "    <tr>\n",
       "      <th>2006-12-18</th>\n",
       "      <td>462.833333</td>\n",
       "    </tr>\n",
       "    <tr>\n",
       "      <th>2006-12-19</th>\n",
       "      <td>324.266667</td>\n",
       "    </tr>\n",
       "    <tr>\n",
       "      <th>2006-12-20</th>\n",
       "      <td>569.266667</td>\n",
       "    </tr>\n",
       "  </tbody>\n",
       "</table>\n",
       "</div>"
      ],
      "text/plain": [
       "            power_consumption\n",
       "Date                         \n",
       "2006-12-16         679.866667\n",
       "2006-12-17        1192.266667\n",
       "2006-12-18         462.833333\n",
       "2006-12-19         324.266667\n",
       "2006-12-20         569.266667"
      ]
     },
     "execution_count": 28,
     "metadata": {},
     "output_type": "execute_result"
    }
   ],
   "source": [
    "df_power_consumption.head()"
   ]
  },
  {
   "cell_type": "markdown",
   "id": "4fc6f277",
   "metadata": {},
   "source": [
    "## Creating sub-dataframe of sub-metering 1, sub-metering 2, sub-metering 3 "
   ]
  },
  {
   "cell_type": "code",
   "execution_count": 30,
   "id": "c44b0151",
   "metadata": {},
   "outputs": [],
   "source": [
    "df_sub_meterings = df_data[['Sub_metering_1','Sub_metering_2','Sub_metering_3']]"
   ]
  },
  {
   "cell_type": "code",
   "execution_count": 31,
   "id": "f17fdeb6",
   "metadata": {},
   "outputs": [
    {
     "data": {
      "text/html": [
       "<div>\n",
       "<style scoped>\n",
       "    .dataframe tbody tr th:only-of-type {\n",
       "        vertical-align: middle;\n",
       "    }\n",
       "\n",
       "    .dataframe tbody tr th {\n",
       "        vertical-align: top;\n",
       "    }\n",
       "\n",
       "    .dataframe thead th {\n",
       "        text-align: right;\n",
       "    }\n",
       "</style>\n",
       "<table border=\"1\" class=\"dataframe\">\n",
       "  <thead>\n",
       "    <tr style=\"text-align: right;\">\n",
       "      <th></th>\n",
       "      <th>Sub_metering_1</th>\n",
       "      <th>Sub_metering_2</th>\n",
       "      <th>Sub_metering_3</th>\n",
       "    </tr>\n",
       "    <tr>\n",
       "      <th>Date</th>\n",
       "      <th></th>\n",
       "      <th></th>\n",
       "      <th></th>\n",
       "    </tr>\n",
       "  </thead>\n",
       "  <tbody>\n",
       "    <tr>\n",
       "      <th>2006-12-16</th>\n",
       "      <td>0.0</td>\n",
       "      <td>30.0</td>\n",
       "      <td>234.0</td>\n",
       "    </tr>\n",
       "    <tr>\n",
       "      <th>2006-12-17</th>\n",
       "      <td>77.0</td>\n",
       "      <td>47.0</td>\n",
       "      <td>436.0</td>\n",
       "    </tr>\n",
       "    <tr>\n",
       "      <th>2006-12-18</th>\n",
       "      <td>2.0</td>\n",
       "      <td>11.0</td>\n",
       "      <td>353.0</td>\n",
       "    </tr>\n",
       "    <tr>\n",
       "      <th>2006-12-19</th>\n",
       "      <td>0.0</td>\n",
       "      <td>146.0</td>\n",
       "      <td>149.0</td>\n",
       "    </tr>\n",
       "    <tr>\n",
       "      <th>2006-12-20</th>\n",
       "      <td>0.0</td>\n",
       "      <td>7.0</td>\n",
       "      <td>411.0</td>\n",
       "    </tr>\n",
       "  </tbody>\n",
       "</table>\n",
       "</div>"
      ],
      "text/plain": [
       "            Sub_metering_1  Sub_metering_2  Sub_metering_3\n",
       "Date                                                      \n",
       "2006-12-16             0.0            30.0           234.0\n",
       "2006-12-17            77.0            47.0           436.0\n",
       "2006-12-18             2.0            11.0           353.0\n",
       "2006-12-19             0.0           146.0           149.0\n",
       "2006-12-20             0.0             7.0           411.0"
      ]
     },
     "execution_count": 31,
     "metadata": {},
     "output_type": "execute_result"
    }
   ],
   "source": [
    "df_sub_meterings.head()"
   ]
  },
  {
   "cell_type": "code",
   "execution_count": 32,
   "id": "4876ea70",
   "metadata": {},
   "outputs": [],
   "source": [
    "## # Creating sub-dataframe of Global_active_power, Global_reactive_power, and Global_intensity \n",
    "# (Global_active_power and Global_reactive_power measured in kilowatt whereas, Global_intensity measured in Ampere)\n",
    "# kilowatt = (ampere * volt) / 1000"
   ]
  },
  {
   "cell_type": "code",
   "execution_count": 33,
   "id": "1f5a2b4c",
   "metadata": {},
   "outputs": [],
   "source": [
    "df_active_reactive = df_data[['Global_active_power','Global_reactive_power','Global_intensity']]"
   ]
  },
  {
   "cell_type": "code",
   "execution_count": 34,
   "id": "be8dfc2f",
   "metadata": {},
   "outputs": [
    {
     "data": {
      "text/html": [
       "<div>\n",
       "<style scoped>\n",
       "    .dataframe tbody tr th:only-of-type {\n",
       "        vertical-align: middle;\n",
       "    }\n",
       "\n",
       "    .dataframe tbody tr th {\n",
       "        vertical-align: top;\n",
       "    }\n",
       "\n",
       "    .dataframe thead th {\n",
       "        text-align: right;\n",
       "    }\n",
       "</style>\n",
       "<table border=\"1\" class=\"dataframe\">\n",
       "  <thead>\n",
       "    <tr style=\"text-align: right;\">\n",
       "      <th></th>\n",
       "      <th>Global_active_power</th>\n",
       "      <th>Global_reactive_power</th>\n",
       "      <th>Global_intensity</th>\n",
       "    </tr>\n",
       "    <tr>\n",
       "      <th>Date</th>\n",
       "      <th></th>\n",
       "      <th></th>\n",
       "      <th></th>\n",
       "    </tr>\n",
       "  </thead>\n",
       "  <tbody>\n",
       "    <tr>\n",
       "      <th>2006-12-16</th>\n",
       "      <td>56.632</td>\n",
       "      <td>2.046</td>\n",
       "      <td>243.0</td>\n",
       "    </tr>\n",
       "    <tr>\n",
       "      <th>2006-12-17</th>\n",
       "      <td>105.136</td>\n",
       "      <td>7.730</td>\n",
       "      <td>446.4</td>\n",
       "    </tr>\n",
       "    <tr>\n",
       "      <th>2006-12-18</th>\n",
       "      <td>49.730</td>\n",
       "      <td>4.458</td>\n",
       "      <td>208.0</td>\n",
       "    </tr>\n",
       "    <tr>\n",
       "      <th>2006-12-19</th>\n",
       "      <td>37.156</td>\n",
       "      <td>3.620</td>\n",
       "      <td>158.0</td>\n",
       "    </tr>\n",
       "    <tr>\n",
       "      <th>2006-12-20</th>\n",
       "      <td>59.236</td>\n",
       "      <td>5.108</td>\n",
       "      <td>247.0</td>\n",
       "    </tr>\n",
       "  </tbody>\n",
       "</table>\n",
       "</div>"
      ],
      "text/plain": [
       "            Global_active_power  Global_reactive_power  Global_intensity\n",
       "Date                                                                    \n",
       "2006-12-16               56.632                  2.046             243.0\n",
       "2006-12-17              105.136                  7.730             446.4\n",
       "2006-12-18               49.730                  4.458             208.0\n",
       "2006-12-19               37.156                  3.620             158.0\n",
       "2006-12-20               59.236                  5.108             247.0"
      ]
     },
     "execution_count": 34,
     "metadata": {},
     "output_type": "execute_result"
    }
   ],
   "source": [
    "df_active_reactive.head()"
   ]
  },
  {
   "cell_type": "markdown",
   "id": "26cb81f8",
   "metadata": {},
   "source": [
    "## Analysis of power consumption yearly\n",
    "\n",
    "    checking statical summary of power consumption yearly"
   ]
  },
  {
   "cell_type": "code",
   "execution_count": 35,
   "id": "7e68bf54",
   "metadata": {},
   "outputs": [
    {
     "data": {
      "text/html": [
       "<div>\n",
       "<style scoped>\n",
       "    .dataframe tbody tr th:only-of-type {\n",
       "        vertical-align: middle;\n",
       "    }\n",
       "\n",
       "    .dataframe tbody tr th {\n",
       "        vertical-align: top;\n",
       "    }\n",
       "\n",
       "    .dataframe thead tr th {\n",
       "        text-align: left;\n",
       "    }\n",
       "\n",
       "    .dataframe thead tr:last-of-type th {\n",
       "        text-align: right;\n",
       "    }\n",
       "</style>\n",
       "<table border=\"1\" class=\"dataframe\">\n",
       "  <thead>\n",
       "    <tr>\n",
       "      <th></th>\n",
       "      <th colspan=\"8\" halign=\"left\">power_consumption</th>\n",
       "    </tr>\n",
       "    <tr>\n",
       "      <th></th>\n",
       "      <th>count</th>\n",
       "      <th>mean</th>\n",
       "      <th>std</th>\n",
       "      <th>min</th>\n",
       "      <th>25%</th>\n",
       "      <th>50%</th>\n",
       "      <th>75%</th>\n",
       "      <th>max</th>\n",
       "    </tr>\n",
       "    <tr>\n",
       "      <th>Date</th>\n",
       "      <th></th>\n",
       "      <th></th>\n",
       "      <th></th>\n",
       "      <th></th>\n",
       "      <th></th>\n",
       "      <th></th>\n",
       "      <th></th>\n",
       "      <th></th>\n",
       "    </tr>\n",
       "  </thead>\n",
       "  <tbody>\n",
       "    <tr>\n",
       "      <th>2006</th>\n",
       "      <td>16.0</td>\n",
       "      <td>694.856250</td>\n",
       "      <td>298.283013</td>\n",
       "      <td>324.266667</td>\n",
       "      <td>473.558333</td>\n",
       "      <td>603.616667</td>\n",
       "      <td>958.008333</td>\n",
       "      <td>1192.266667</td>\n",
       "    </tr>\n",
       "    <tr>\n",
       "      <th>2007</th>\n",
       "      <td>365.0</td>\n",
       "      <td>341.815799</td>\n",
       "      <td>193.063352</td>\n",
       "      <td>69.400000</td>\n",
       "      <td>207.633333</td>\n",
       "      <td>288.733333</td>\n",
       "      <td>430.866667</td>\n",
       "      <td>1390.933333</td>\n",
       "    </tr>\n",
       "    <tr>\n",
       "      <th>2008</th>\n",
       "      <td>366.0</td>\n",
       "      <td>327.600820</td>\n",
       "      <td>173.158248</td>\n",
       "      <td>32.900000</td>\n",
       "      <td>210.541667</td>\n",
       "      <td>307.150000</td>\n",
       "      <td>424.041667</td>\n",
       "      <td>1007.666667</td>\n",
       "    </tr>\n",
       "    <tr>\n",
       "      <th>2009</th>\n",
       "      <td>365.0</td>\n",
       "      <td>305.300365</td>\n",
       "      <td>133.794041</td>\n",
       "      <td>67.900000</td>\n",
       "      <td>212.466667</td>\n",
       "      <td>287.633333</td>\n",
       "      <td>377.633333</td>\n",
       "      <td>846.433333</td>\n",
       "    </tr>\n",
       "    <tr>\n",
       "      <th>2010</th>\n",
       "      <td>330.0</td>\n",
       "      <td>290.483535</td>\n",
       "      <td>108.308153</td>\n",
       "      <td>73.366667</td>\n",
       "      <td>209.266667</td>\n",
       "      <td>281.200000</td>\n",
       "      <td>359.900000</td>\n",
       "      <td>650.000000</td>\n",
       "    </tr>\n",
       "  </tbody>\n",
       "</table>\n",
       "</div>"
      ],
      "text/plain": [
       "     power_consumption                                                  \\\n",
       "                 count        mean         std         min         25%   \n",
       "Date                                                                     \n",
       "2006              16.0  694.856250  298.283013  324.266667  473.558333   \n",
       "2007             365.0  341.815799  193.063352   69.400000  207.633333   \n",
       "2008             366.0  327.600820  173.158248   32.900000  210.541667   \n",
       "2009             365.0  305.300365  133.794041   67.900000  212.466667   \n",
       "2010             330.0  290.483535  108.308153   73.366667  209.266667   \n",
       "\n",
       "                                           \n",
       "             50%         75%          max  \n",
       "Date                                       \n",
       "2006  603.616667  958.008333  1192.266667  \n",
       "2007  288.733333  430.866667  1390.933333  \n",
       "2008  307.150000  424.041667  1007.666667  \n",
       "2009  287.633333  377.633333   846.433333  \n",
       "2010  281.200000  359.900000   650.000000  "
      ]
     },
     "execution_count": 35,
     "metadata": {},
     "output_type": "execute_result"
    }
   ],
   "source": [
    "df_power_consumption.groupby(df_power_consumption.index.year).describe()"
   ]
  },
  {
   "cell_type": "markdown",
   "id": "15ba848e",
   "metadata": {},
   "source": [
    "## Yearly - Total watt-hour for Power Consumption"
   ]
  },
  {
   "cell_type": "code",
   "execution_count": 36,
   "id": "95f9f604",
   "metadata": {},
   "outputs": [
    {
     "data": {
      "text/plain": [
       "<AxesSubplot:title={'center':'Yearly - Total watt-hour for Power Consumption'}, xlabel='Year', ylabel='Readings in watt-hour'>"
      ]
     },
     "execution_count": 36,
     "metadata": {},
     "output_type": "execute_result"
    },
    {
     "data": {
      "image/png": "[encoded data removed]",
      "text/plain": [
       "<Figure size 1152x432 with 1 Axes>"
      ]
     },
     "metadata": {
      "needs_background": "light"
     },
     "output_type": "display_data"
    }
   ],
   "source": [
    "# Yearly - Total watt-hour for Power Consumption\n",
    "\n",
    "df_power_consumption.groupby(df_power_consumption.index.year).sum().plot(kind=\"bar\",xlabel='Year',ylabel='Readings in watt-hour',title=\"Yearly - Total watt-hour for Power Consumption\", figsize=(16,6))"
   ]
  },
  {
   "cell_type": "markdown",
   "id": "b9de47d5",
   "metadata": {},
   "source": [
    "## Monthly - total watt-hour for power consumption"
   ]
  },
  {
   "cell_type": "code",
   "execution_count": 67,
   "id": "5a63ef38",
   "metadata": {},
   "outputs": [
    {
     "data": {
      "text/plain": [
       "<AxesSubplot:title={'center':'monthly total watt hour for power consumption'}, xlabel='month', ylabel='readings in watt-hour'>"
      ]
     },
     "execution_count": 67,
     "metadata": {},
     "output_type": "execute_result"
    },
    {
     "data": {
      "image/png": "[encoded data removed]",
      "text/plain": [
       "<Figure size 1080x504 with 1 Axes>"
      ]
     },
     "metadata": {
      "needs_background": "light"
     },
     "output_type": "display_data"
    }
   ],
   "source": [
    "df_power_consumption.groupby(df_power_consumption.index.month).sum().plot(kind=\"bar\",xlabel=\"month\",ylabel=\"readings in watt-hour\",title=\"monthly total watt hour for power consumption\",figsize=(15,7))"
   ]
  },
  {
   "cell_type": "markdown",
   "id": "ed699ecc",
   "metadata": {},
   "source": [
    "## Quartely- total watt hour for power consumption"
   ]
  },
  {
   "cell_type": "code",
   "execution_count": 69,
   "id": "09ec21c5",
   "metadata": {},
   "outputs": [
    {
     "data": {
      "text/plain": [
       "<AxesSubplot:title={'center':'Quarterly - Total watt-hour for Power Consumption'}, xlabel='Quarters', ylabel='Readings in watt-hour'>"
      ]
     },
     "execution_count": 69,
     "metadata": {},
     "output_type": "execute_result"
    },
    {
     "data": {
      "image/png": "[encoded data removed]",
      "text/plain": [
       "<Figure size 1152x432 with 1 Axes>"
      ]
     },
     "metadata": {
      "needs_background": "light"
     },
     "output_type": "display_data"
    }
   ],
   "source": [
    "df_power_consumption.groupby(df_power_consumption.index.quarter).sum().plot(kind=\"bar\",xlabel='Quarters',ylabel='Readings in watt-hour',title=\"Quarterly - Total watt-hour for Power Consumption\", figsize=(16,6))"
   ]
  },
  {
   "cell_type": "markdown",
   "id": "236e3e15",
   "metadata": {},
   "source": [
    "## weekly total watt-hour for power consumption"
   ]
  },
  {
   "cell_type": "code",
   "execution_count": 71,
   "id": "82e6d2d5",
   "metadata": {},
   "outputs": [
    {
     "data": {
      "text/plain": [
       "<AxesSubplot:title={'center':'weakly total watt hour for power consumption'}, xlabel='week', ylabel='readings in watt hour'>"
      ]
     },
     "execution_count": 71,
     "metadata": {},
     "output_type": "execute_result"
    },
    {
     "data": {
      "image/png": "[encoded data removed]",
      "text/plain": [
       "<Figure size 1080x504 with 1 Axes>"
      ]
     },
     "metadata": {
      "needs_background": "light"
     },
     "output_type": "display_data"
    }
   ],
   "source": [
    "df_power_consumption.groupby(df_power_consumption.index.week).sum().plot(kind=\"bar\",xlabel=\"week\",ylabel=\"readings in watt hour\", title=\"weakly total watt hour for power consumption\",figsize=(15,7))"
   ]
  },
  {
   "cell_type": "markdown",
   "id": "141e7988",
   "metadata": {},
   "source": [
    "## sub metering analysis for yearly, quartely, monthly and weekly"
   ]
  },
  {
   "cell_type": "markdown",
   "id": "16d2c133",
   "metadata": {},
   "source": [
    "## yearly maximum watt hour for sub_meterings"
   ]
  },
  {
   "cell_type": "code",
   "execution_count": 73,
   "id": "6b28142b",
   "metadata": {},
   "outputs": [
    {
     "data": {
      "text/plain": [
       "<AxesSubplot:title={'center':'yearly maximum watt hour for sub meterings'}, xlabel='year', ylabel='readings in watt hour'>"
      ]
     },
     "execution_count": 73,
     "metadata": {},
     "output_type": "execute_result"
    },
    {
     "data": {
      "image/png": "[encoded data removed]",
      "text/plain": [
       "<Figure size 1080x432 with 1 Axes>"
      ]
     },
     "metadata": {
      "needs_background": "light"
     },
     "output_type": "display_data"
    }
   ],
   "source": [
    "## yearly maximum watt hour for sub_meterings\n",
    "\n",
    "df_sub_meterings.groupby(df_sub_meterings.index.year).max().plot(kind=\"bar\",xlabel=\"year\",ylabel=\"readings in watt hour\",title=\"yearly maximum watt hour for sub meterings\",figsize=(15,6))"
   ]
  },
  {
   "cell_type": "markdown",
   "id": "657df9b3",
   "metadata": {},
   "source": [
    "## monthly total watt-hour for submeterings"
   ]
  },
  {
   "cell_type": "code",
   "execution_count": 77,
   "id": "dcc944a1",
   "metadata": {},
   "outputs": [
    {
     "data": {
      "text/plain": [
       "<AxesSubplot:title={'center':'monthly total hour for submeterings'}, xlabel='month', ylabel='readings in watt hour'>"
      ]
     },
     "execution_count": 77,
     "metadata": {},
     "output_type": "execute_result"
    },
    {
     "data": {
      "image/png": "[encoded data removed]",
      "text/plain": [
       "<Figure size 1080x504 with 1 Axes>"
      ]
     },
     "metadata": {
      "needs_background": "light"
     },
     "output_type": "display_data"
    }
   ],
   "source": [
    "df_sub_meterings.groupby(df_sub_meterings.index.month).sum().plot(kind=\"bar\",xlabel=\"month\",ylabel=\"readings in watt hour\",title=\"monthly total hour for submeterings\",figsize=(15,7))"
   ]
  },
  {
   "cell_type": "markdown",
   "id": "51efb892",
   "metadata": {},
   "source": [
    "## Quartely total watt hour for sub meterings"
   ]
  },
  {
   "cell_type": "code",
   "execution_count": 79,
   "id": "694a0300",
   "metadata": {},
   "outputs": [
    {
     "data": {
      "text/plain": [
       "<AxesSubplot:title={'center':'quartely total watt hour for sub meterings'}, xlabel='quarter', ylabel='readings in watt hour'>"
      ]
     },
     "execution_count": 79,
     "metadata": {},
     "output_type": "execute_result"
    },
    {
     "data": {
      "image/png": "[encoded data removed]",
      "text/plain": [
       "<Figure size 1080x504 with 1 Axes>"
      ]
     },
     "metadata": {
      "needs_background": "light"
     },
     "output_type": "display_data"
    }
   ],
   "source": [
    "df_sub_meterings.groupby(df_sub_meterings.index.quarter).sum().plot(kind=\"bar\",xlabel=\"quarter\",ylabel=\"readings in watt hour\",figsize=(15,7),title=\"quartely total watt hour for sub meterings\")"
   ]
  },
  {
   "cell_type": "code",
   "execution_count": null,
   "id": "56f523bc",
   "metadata": {},
   "outputs": [],
   "source": []
  },
  {
   "cell_type": "code",
   "execution_count": 37,
   "id": "b3434877",
   "metadata": {},
   "outputs": [],
   "source": [
    "dfs.drop(['time'],axis=1,inplace=True)"
   ]
  },
  {
   "cell_type": "code",
   "execution_count": 38,
   "id": "f17ec040",
   "metadata": {},
   "outputs": [],
   "source": [
    "dfs.drop(['Date'],axis=1,inplace=True)"
   ]
  },
  {
   "cell_type": "code",
   "execution_count": 39,
   "id": "44b96e61",
   "metadata": {},
   "outputs": [
    {
     "data": {
      "text/html": [
       "<div>\n",
       "<style scoped>\n",
       "    .dataframe tbody tr th:only-of-type {\n",
       "        vertical-align: middle;\n",
       "    }\n",
       "\n",
       "    .dataframe tbody tr th {\n",
       "        vertical-align: top;\n",
       "    }\n",
       "\n",
       "    .dataframe thead th {\n",
       "        text-align: right;\n",
       "    }\n",
       "</style>\n",
       "<table border=\"1\" class=\"dataframe\">\n",
       "  <thead>\n",
       "    <tr style=\"text-align: right;\">\n",
       "      <th></th>\n",
       "      <th>Global_active_power</th>\n",
       "      <th>Global_reactive_power</th>\n",
       "      <th>Voltage</th>\n",
       "      <th>Global_intensity</th>\n",
       "      <th>Sub_metering_1</th>\n",
       "      <th>Sub_metering_2</th>\n",
       "      <th>Sub_metering_3</th>\n",
       "      <th>power_consumption</th>\n",
       "    </tr>\n",
       "  </thead>\n",
       "  <tbody>\n",
       "    <tr>\n",
       "      <th>0</th>\n",
       "      <td>0.342</td>\n",
       "      <td>0.092</td>\n",
       "      <td>241.44</td>\n",
       "      <td>1.4</td>\n",
       "      <td>0.0</td>\n",
       "      <td>0.0</td>\n",
       "      <td>1.0</td>\n",
       "      <td>4.700000</td>\n",
       "    </tr>\n",
       "    <tr>\n",
       "      <th>1</th>\n",
       "      <td>0.342</td>\n",
       "      <td>0.000</td>\n",
       "      <td>244.62</td>\n",
       "      <td>1.6</td>\n",
       "      <td>0.0</td>\n",
       "      <td>0.0</td>\n",
       "      <td>0.0</td>\n",
       "      <td>5.700000</td>\n",
       "    </tr>\n",
       "    <tr>\n",
       "      <th>2</th>\n",
       "      <td>0.424</td>\n",
       "      <td>0.150</td>\n",
       "      <td>248.37</td>\n",
       "      <td>1.8</td>\n",
       "      <td>0.0</td>\n",
       "      <td>0.0</td>\n",
       "      <td>1.0</td>\n",
       "      <td>6.066667</td>\n",
       "    </tr>\n",
       "    <tr>\n",
       "      <th>3</th>\n",
       "      <td>0.254</td>\n",
       "      <td>0.052</td>\n",
       "      <td>239.96</td>\n",
       "      <td>1.0</td>\n",
       "      <td>0.0</td>\n",
       "      <td>0.0</td>\n",
       "      <td>1.0</td>\n",
       "      <td>3.233333</td>\n",
       "    </tr>\n",
       "    <tr>\n",
       "      <th>4</th>\n",
       "      <td>1.400</td>\n",
       "      <td>0.000</td>\n",
       "      <td>243.44</td>\n",
       "      <td>5.8</td>\n",
       "      <td>0.0</td>\n",
       "      <td>0.0</td>\n",
       "      <td>18.0</td>\n",
       "      <td>5.333333</td>\n",
       "    </tr>\n",
       "    <tr>\n",
       "      <th>...</th>\n",
       "      <td>...</td>\n",
       "      <td>...</td>\n",
       "      <td>...</td>\n",
       "      <td>...</td>\n",
       "      <td>...</td>\n",
       "      <td>...</td>\n",
       "      <td>...</td>\n",
       "      <td>...</td>\n",
       "    </tr>\n",
       "    <tr>\n",
       "      <th>49995</th>\n",
       "      <td>0.282</td>\n",
       "      <td>0.146</td>\n",
       "      <td>243.02</td>\n",
       "      <td>1.2</td>\n",
       "      <td>0.0</td>\n",
       "      <td>0.0</td>\n",
       "      <td>1.0</td>\n",
       "      <td>3.700000</td>\n",
       "    </tr>\n",
       "    <tr>\n",
       "      <th>49996</th>\n",
       "      <td>0.264</td>\n",
       "      <td>0.104</td>\n",
       "      <td>241.12</td>\n",
       "      <td>1.2</td>\n",
       "      <td>0.0</td>\n",
       "      <td>0.0</td>\n",
       "      <td>1.0</td>\n",
       "      <td>3.400000</td>\n",
       "    </tr>\n",
       "    <tr>\n",
       "      <th>49997</th>\n",
       "      <td>1.394</td>\n",
       "      <td>0.130</td>\n",
       "      <td>238.73</td>\n",
       "      <td>5.8</td>\n",
       "      <td>0.0</td>\n",
       "      <td>1.0</td>\n",
       "      <td>17.0</td>\n",
       "      <td>5.233333</td>\n",
       "    </tr>\n",
       "    <tr>\n",
       "      <th>49998</th>\n",
       "      <td>1.374</td>\n",
       "      <td>0.062</td>\n",
       "      <td>238.27</td>\n",
       "      <td>5.6</td>\n",
       "      <td>0.0</td>\n",
       "      <td>0.0</td>\n",
       "      <td>0.0</td>\n",
       "      <td>22.900000</td>\n",
       "    </tr>\n",
       "    <tr>\n",
       "      <th>49999</th>\n",
       "      <td>1.450</td>\n",
       "      <td>0.200</td>\n",
       "      <td>239.71</td>\n",
       "      <td>6.0</td>\n",
       "      <td>0.0</td>\n",
       "      <td>2.0</td>\n",
       "      <td>17.0</td>\n",
       "      <td>5.166667</td>\n",
       "    </tr>\n",
       "  </tbody>\n",
       "</table>\n",
       "<p>50000 rows × 8 columns</p>\n",
       "</div>"
      ],
      "text/plain": [
       "       Global_active_power  Global_reactive_power  Voltage  Global_intensity  \\\n",
       "0                    0.342                  0.092   241.44               1.4   \n",
       "1                    0.342                  0.000   244.62               1.6   \n",
       "2                    0.424                  0.150   248.37               1.8   \n",
       "3                    0.254                  0.052   239.96               1.0   \n",
       "4                    1.400                  0.000   243.44               5.8   \n",
       "...                    ...                    ...      ...               ...   \n",
       "49995                0.282                  0.146   243.02               1.2   \n",
       "49996                0.264                  0.104   241.12               1.2   \n",
       "49997                1.394                  0.130   238.73               5.8   \n",
       "49998                1.374                  0.062   238.27               5.6   \n",
       "49999                1.450                  0.200   239.71               6.0   \n",
       "\n",
       "       Sub_metering_1  Sub_metering_2  Sub_metering_3  power_consumption  \n",
       "0                 0.0             0.0             1.0           4.700000  \n",
       "1                 0.0             0.0             0.0           5.700000  \n",
       "2                 0.0             0.0             1.0           6.066667  \n",
       "3                 0.0             0.0             1.0           3.233333  \n",
       "4                 0.0             0.0            18.0           5.333333  \n",
       "...               ...             ...             ...                ...  \n",
       "49995             0.0             0.0             1.0           3.700000  \n",
       "49996             0.0             0.0             1.0           3.400000  \n",
       "49997             0.0             1.0            17.0           5.233333  \n",
       "49998             0.0             0.0             0.0          22.900000  \n",
       "49999             0.0             2.0            17.0           5.166667  \n",
       "\n",
       "[50000 rows x 8 columns]"
      ]
     },
     "execution_count": 39,
     "metadata": {},
     "output_type": "execute_result"
    }
   ],
   "source": [
    "dfs.reset_index(drop=True)"
   ]
  },
  {
   "cell_type": "markdown",
   "id": "b70bfc8f",
   "metadata": {},
   "source": [
    "## independent and dependent feature seperation"
   ]
  },
  {
   "cell_type": "markdown",
   "id": "4928bf35",
   "metadata": {},
   "source": [
    "### independent feature"
   ]
  },
  {
   "cell_type": "code",
   "execution_count": 42,
   "id": "94faa8ca",
   "metadata": {},
   "outputs": [],
   "source": [
    "X = dfs.drop(\"power_consumption\",axis=1)"
   ]
  },
  {
   "cell_type": "markdown",
   "id": "f739e3b4",
   "metadata": {},
   "source": [
    "## dependent feature"
   ]
  },
  {
   "cell_type": "code",
   "execution_count": 43,
   "id": "8ae4840f",
   "metadata": {},
   "outputs": [],
   "source": [
    "y = dfs['power_consumption']"
   ]
  },
  {
   "cell_type": "code",
   "execution_count": 44,
   "id": "17d2a988",
   "metadata": {},
   "outputs": [
    {
     "name": "stdout",
     "output_type": "stream",
     "text": [
      "(50000, 7) (50000,)\n"
     ]
    }
   ],
   "source": [
    "print(X.shape,  y.shape)"
   ]
  },
  {
   "cell_type": "markdown",
   "id": "641d36ba",
   "metadata": {},
   "source": [
    "## Spliting the data into train and test and split"
   ]
  },
  {
   "cell_type": "code",
   "execution_count": 46,
   "id": "7f66957a",
   "metadata": {},
   "outputs": [],
   "source": [
    "from sklearn.model_selection import train_test_split"
   ]
  },
  {
   "cell_type": "code",
   "execution_count": 47,
   "id": "8a342565",
   "metadata": {},
   "outputs": [],
   "source": [
    "X_train,X_test,y_train,y_test = train_test_split(X,y,test_size=0.33,random_state=42)"
   ]
  },
  {
   "cell_type": "code",
   "execution_count": 48,
   "id": "8b7badcb",
   "metadata": {},
   "outputs": [
    {
     "name": "stdout",
     "output_type": "stream",
     "text": [
      "(33500, 7) (33500,)\n"
     ]
    }
   ],
   "source": [
    "print(X_train.shape,y_train.shape)"
   ]
  },
  {
   "cell_type": "code",
   "execution_count": 49,
   "id": "3dfe5688",
   "metadata": {},
   "outputs": [
    {
     "name": "stdout",
     "output_type": "stream",
     "text": [
      "(16500, 7) (16500,)\n"
     ]
    }
   ],
   "source": [
    "print(X_test.shape,y_test.shape)"
   ]
  },
  {
   "cell_type": "markdown",
   "id": "b5b6de2a",
   "metadata": {},
   "source": [
    "## Standardizing or feature scalling the dataset"
   ]
  },
  {
   "cell_type": "code",
   "execution_count": 51,
   "id": "b66125aa",
   "metadata": {},
   "outputs": [
    {
     "data": {
      "text/html": [
       "<style>#sk-container-id-1 {color: black;background-color: white;}#sk-container-id-1 pre{padding: 0;}#sk-container-id-1 div.sk-toggleable {background-color: white;}#sk-container-id-1 label.sk-toggleable__label {cursor: pointer;display: block;width: 100%;margin-bottom: 0;padding: 0.3em;box-sizing: border-box;text-align: center;}#sk-container-id-1 label.sk-toggleable__label-arrow:before {content: \"▸\";float: left;margin-right: 0.25em;color: #696969;}#sk-container-id-1 label.sk-toggleable__label-arrow:hover:before {color: black;}#sk-container-id-1 div.sk-estimator:hover label.sk-toggleable__label-arrow:before {color: black;}#sk-container-id-1 div.sk-toggleable__content {max-height: 0;max-width: 0;overflow: hidden;text-align: left;background-color: #f0f8ff;}#sk-container-id-1 div.sk-toggleable__content pre {margin: 0.2em;color: black;border-radius: 0.25em;background-color: #f0f8ff;}#sk-container-id-1 input.sk-toggleable__control:checked~div.sk-toggleable__content {max-height: 200px;max-width: 100%;overflow: auto;}#sk-container-id-1 input.sk-toggleable__control:checked~label.sk-toggleable__label-arrow:before {content: \"▾\";}#sk-container-id-1 div.sk-estimator input.sk-toggleable__control:checked~label.sk-toggleable__label {background-color: #d4ebff;}#sk-container-id-1 div.sk-label input.sk-toggleable__control:checked~label.sk-toggleable__label {background-color: #d4ebff;}#sk-container-id-1 input.sk-hidden--visually {border: 0;clip: rect(1px 1px 1px 1px);clip: rect(1px, 1px, 1px, 1px);height: 1px;margin: -1px;overflow: hidden;padding: 0;position: absolute;width: 1px;}#sk-container-id-1 div.sk-estimator {font-family: monospace;background-color: #f0f8ff;border: 1px dotted black;border-radius: 0.25em;box-sizing: border-box;margin-bottom: 0.5em;}#sk-container-id-1 div.sk-estimator:hover {background-color: #d4ebff;}#sk-container-id-1 div.sk-parallel-item::after {content: \"\";width: 100%;border-bottom: 1px solid gray;flex-grow: 1;}#sk-container-id-1 div.sk-label:hover label.sk-toggleable__label {background-color: #d4ebff;}#sk-container-id-1 div.sk-serial::before {content: \"\";position: absolute;border-left: 1px solid gray;box-sizing: border-box;top: 0;bottom: 0;left: 50%;z-index: 0;}#sk-container-id-1 div.sk-serial {display: flex;flex-direction: column;align-items: center;background-color: white;padding-right: 0.2em;padding-left: 0.2em;position: relative;}#sk-container-id-1 div.sk-item {position: relative;z-index: 1;}#sk-container-id-1 div.sk-parallel {display: flex;align-items: stretch;justify-content: center;background-color: white;position: relative;}#sk-container-id-1 div.sk-item::before, #sk-container-id-1 div.sk-parallel-item::before {content: \"\";position: absolute;border-left: 1px solid gray;box-sizing: border-box;top: 0;bottom: 0;left: 50%;z-index: -1;}#sk-container-id-1 div.sk-parallel-item {display: flex;flex-direction: column;z-index: 1;position: relative;background-color: white;}#sk-container-id-1 div.sk-parallel-item:first-child::after {align-self: flex-end;width: 50%;}#sk-container-id-1 div.sk-parallel-item:last-child::after {align-self: flex-start;width: 50%;}#sk-container-id-1 div.sk-parallel-item:only-child::after {width: 0;}#sk-container-id-1 div.sk-dashed-wrapped {border: 1px dashed gray;margin: 0 0.4em 0.5em 0.4em;box-sizing: border-box;padding-bottom: 0.4em;background-color: white;}#sk-container-id-1 div.sk-label label {font-family: monospace;font-weight: bold;display: inline-block;line-height: 1.2em;}#sk-container-id-1 div.sk-label-container {text-align: center;}#sk-container-id-1 div.sk-container {/* jupyter's `normalize.less` sets `[hidden] { display: none; }` but bootstrap.min.css set `[hidden] { display: none !important; }` so we also need the `!important` here to be able to override the default hidden behavior on the sphinx rendered scikit-learn.org. See: https://github.com/scikit-learn/scikit-learn/issues/21755 */display: inline-block !important;position: relative;}#sk-container-id-1 div.sk-text-repr-fallback {display: none;}</style><div id=\"sk-container-id-1\" class=\"sk-top-container\"><div class=\"sk-text-repr-fallback\"><pre>StandardScaler()</pre><b>In a Jupyter environment, please rerun this cell to show the HTML representation or trust the notebook. <br />On GitHub, the HTML representation is unable to render, please try loading this page with nbviewer.org.</b></div><div class=\"sk-container\" hidden><div class=\"sk-item\"><div class=\"sk-estimator sk-toggleable\"><input class=\"sk-toggleable__control sk-hidden--visually\" id=\"sk-estimator-id-1\" type=\"checkbox\" checked><label for=\"sk-estimator-id-1\" class=\"sk-toggleable__label sk-toggleable__label-arrow\">StandardScaler</label><div class=\"sk-toggleable__content\"><pre>StandardScaler()</pre></div></div></div></div></div>"
      ],
      "text/plain": [
       "StandardScaler()"
      ]
     },
     "execution_count": 51,
     "metadata": {},
     "output_type": "execute_result"
    }
   ],
   "source": [
    "from sklearn.preprocessing import StandardScaler\n",
    "scaler = StandardScaler()\n",
    "scaler"
   ]
  },
  {
   "cell_type": "code",
   "execution_count": 52,
   "id": "500ac74a",
   "metadata": {},
   "outputs": [],
   "source": [
    "X_train =scaler.fit_transform(X_train)"
   ]
  },
  {
   "cell_type": "code",
   "execution_count": 53,
   "id": "0195e5b8",
   "metadata": {},
   "outputs": [],
   "source": [
    "X_test = scaler.transform(X_test)"
   ]
  },
  {
   "cell_type": "code",
   "execution_count": 54,
   "id": "42b11c70",
   "metadata": {},
   "outputs": [
    {
     "data": {
      "text/plain": [
       "array([[-0.82643886, -1.09811827,  0.17242787, ..., -0.18215717,\n",
       "        -0.2190066 , -0.77037666],\n",
       "       [ 0.39700942, -1.09811827, -0.75992672, ..., -0.18215717,\n",
       "        -0.2190066 ,  1.35307602],\n",
       "       [-0.7390497 ,  1.15777205,  0.08934677, ..., -0.18215717,\n",
       "        -0.04824619, -0.65240707],\n",
       "       ...,\n",
       "       [ 0.37041272, -0.41077669,  0.49244396, ..., -0.18215717,\n",
       "        -0.2190066 ,  1.47104562],\n",
       "       [ 0.23932897, -0.4988974 , -0.99686171, ..., -0.18215717,\n",
       "        -0.2190066 ,  1.23510643],\n",
       "       [ 0.39700942,  0.84053747,  0.17858202, ..., -0.02148668,\n",
       "        -0.2190066 ,  1.35307602]])"
      ]
     },
     "execution_count": 54,
     "metadata": {},
     "output_type": "execute_result"
    }
   ],
   "source": [
    "X_train"
   ]
  },
  {
   "cell_type": "code",
   "execution_count": 55,
   "id": "ea8bc680",
   "metadata": {},
   "outputs": [
    {
     "data": {
      "text/plain": [
       "array([[-0.88913109,  0.04745103,  1.14170739, ..., -0.18215717,\n",
       "        -0.2190066 , -0.65240707],\n",
       "       [ 0.43120518,  0.10032346, -0.1506653 , ..., -0.18215717,\n",
       "         0.29327463,  1.35307602],\n",
       "       [-0.57946949, -0.0054214 ,  1.22478849, ..., -0.18215717,\n",
       "        -0.2190066 , -0.77037666],\n",
       "       ...,\n",
       "       [-0.81124074, -0.14641454,  0.49244396, ..., -0.18215717,\n",
       "        -0.2190066 , -0.77037666],\n",
       "       [-0.74474899, -0.18166283,  0.54783137, ..., -0.18215717,\n",
       "         0.12251422, -0.77037666],\n",
       "       [ 1.35639045, -0.30503183,  1.26786758, ..., -0.18215717,\n",
       "        -0.2190066 ,  1.47104562]])"
      ]
     },
     "execution_count": 55,
     "metadata": {},
     "output_type": "execute_result"
    }
   ],
   "source": [
    "X_test"
   ]
  },
  {
   "cell_type": "markdown",
   "id": "f8515d01",
   "metadata": {},
   "source": [
    "## Model Training"
   ]
  },
  {
   "cell_type": "code",
   "execution_count": 57,
   "id": "f3b31e1a",
   "metadata": {},
   "outputs": [],
   "source": [
    "from sklearn.model_selection import cross_val_score\n",
    "from sklearn.tree import DecisionTreeRegressor"
   ]
  },
  {
   "cell_type": "code",
   "execution_count": 58,
   "id": "1dcc164b",
   "metadata": {},
   "outputs": [
    {
     "data": {
      "text/plain": [
       "array([0.98802833, 0.98983305, 0.99193655, 0.98664617, 0.99019449,\n",
       "       0.99205174, 0.9848243 , 0.98415036, 0.98990737, 0.99045092])"
      ]
     },
     "execution_count": 58,
     "metadata": {},
     "output_type": "execute_result"
    }
   ],
   "source": [
    "regressor = DecisionTreeRegressor(random_state=0)\n",
    "cross_val_score(regressor,X,y,cv=10)"
   ]
  },
  {
   "cell_type": "code",
   "execution_count": 59,
   "id": "20e379ea",
   "metadata": {},
   "outputs": [
    {
     "data": {
      "text/html": [
       "<style>#sk-container-id-2 {color: black;background-color: white;}#sk-container-id-2 pre{padding: 0;}#sk-container-id-2 div.sk-toggleable {background-color: white;}#sk-container-id-2 label.sk-toggleable__label {cursor: pointer;display: block;width: 100%;margin-bottom: 0;padding: 0.3em;box-sizing: border-box;text-align: center;}#sk-container-id-2 label.sk-toggleable__label-arrow:before {content: \"▸\";float: left;margin-right: 0.25em;color: #696969;}#sk-container-id-2 label.sk-toggleable__label-arrow:hover:before {color: black;}#sk-container-id-2 div.sk-estimator:hover label.sk-toggleable__label-arrow:before {color: black;}#sk-container-id-2 div.sk-toggleable__content {max-height: 0;max-width: 0;overflow: hidden;text-align: left;background-color: #f0f8ff;}#sk-container-id-2 div.sk-toggleable__content pre {margin: 0.2em;color: black;border-radius: 0.25em;background-color: #f0f8ff;}#sk-container-id-2 input.sk-toggleable__control:checked~div.sk-toggleable__content {max-height: 200px;max-width: 100%;overflow: auto;}#sk-container-id-2 input.sk-toggleable__control:checked~label.sk-toggleable__label-arrow:before {content: \"▾\";}#sk-container-id-2 div.sk-estimator input.sk-toggleable__control:checked~label.sk-toggleable__label {background-color: #d4ebff;}#sk-container-id-2 div.sk-label input.sk-toggleable__control:checked~label.sk-toggleable__label {background-color: #d4ebff;}#sk-container-id-2 input.sk-hidden--visually {border: 0;clip: rect(1px 1px 1px 1px);clip: rect(1px, 1px, 1px, 1px);height: 1px;margin: -1px;overflow: hidden;padding: 0;position: absolute;width: 1px;}#sk-container-id-2 div.sk-estimator {font-family: monospace;background-color: #f0f8ff;border: 1px dotted black;border-radius: 0.25em;box-sizing: border-box;margin-bottom: 0.5em;}#sk-container-id-2 div.sk-estimator:hover {background-color: #d4ebff;}#sk-container-id-2 div.sk-parallel-item::after {content: \"\";width: 100%;border-bottom: 1px solid gray;flex-grow: 1;}#sk-container-id-2 div.sk-label:hover label.sk-toggleable__label {background-color: #d4ebff;}#sk-container-id-2 div.sk-serial::before {content: \"\";position: absolute;border-left: 1px solid gray;box-sizing: border-box;top: 0;bottom: 0;left: 50%;z-index: 0;}#sk-container-id-2 div.sk-serial {display: flex;flex-direction: column;align-items: center;background-color: white;padding-right: 0.2em;padding-left: 0.2em;position: relative;}#sk-container-id-2 div.sk-item {position: relative;z-index: 1;}#sk-container-id-2 div.sk-parallel {display: flex;align-items: stretch;justify-content: center;background-color: white;position: relative;}#sk-container-id-2 div.sk-item::before, #sk-container-id-2 div.sk-parallel-item::before {content: \"\";position: absolute;border-left: 1px solid gray;box-sizing: border-box;top: 0;bottom: 0;left: 50%;z-index: -1;}#sk-container-id-2 div.sk-parallel-item {display: flex;flex-direction: column;z-index: 1;position: relative;background-color: white;}#sk-container-id-2 div.sk-parallel-item:first-child::after {align-self: flex-end;width: 50%;}#sk-container-id-2 div.sk-parallel-item:last-child::after {align-self: flex-start;width: 50%;}#sk-container-id-2 div.sk-parallel-item:only-child::after {width: 0;}#sk-container-id-2 div.sk-dashed-wrapped {border: 1px dashed gray;margin: 0 0.4em 0.5em 0.4em;box-sizing: border-box;padding-bottom: 0.4em;background-color: white;}#sk-container-id-2 div.sk-label label {font-family: monospace;font-weight: bold;display: inline-block;line-height: 1.2em;}#sk-container-id-2 div.sk-label-container {text-align: center;}#sk-container-id-2 div.sk-container {/* jupyter's `normalize.less` sets `[hidden] { display: none; }` but bootstrap.min.css set `[hidden] { display: none !important; }` so we also need the `!important` here to be able to override the default hidden behavior on the sphinx rendered scikit-learn.org. See: https://github.com/scikit-learn/scikit-learn/issues/21755 */display: inline-block !important;position: relative;}#sk-container-id-2 div.sk-text-repr-fallback {display: none;}</style><div id=\"sk-container-id-2\" class=\"sk-top-container\"><div class=\"sk-text-repr-fallback\"><pre>DecisionTreeRegressor(random_state=0)</pre><b>In a Jupyter environment, please rerun this cell to show the HTML representation or trust the notebook. <br />On GitHub, the HTML representation is unable to render, please try loading this page with nbviewer.org.</b></div><div class=\"sk-container\" hidden><div class=\"sk-item\"><div class=\"sk-estimator sk-toggleable\"><input class=\"sk-toggleable__control sk-hidden--visually\" id=\"sk-estimator-id-2\" type=\"checkbox\" checked><label for=\"sk-estimator-id-2\" class=\"sk-toggleable__label sk-toggleable__label-arrow\">DecisionTreeRegressor</label><div class=\"sk-toggleable__content\"><pre>DecisionTreeRegressor(random_state=0)</pre></div></div></div></div></div>"
      ],
      "text/plain": [
       "DecisionTreeRegressor(random_state=0)"
      ]
     },
     "execution_count": 59,
     "metadata": {},
     "output_type": "execute_result"
    }
   ],
   "source": [
    "regressor.fit(X_train,y_train)"
   ]
  },
  {
   "cell_type": "code",
   "execution_count": 60,
   "id": "d4be8bf9",
   "metadata": {},
   "outputs": [],
   "source": [
    "y_predict = regressor.predict(X_test)"
   ]
  },
  {
   "cell_type": "markdown",
   "id": "21c61097",
   "metadata": {},
   "source": [
    "## Performance metrics"
   ]
  },
  {
   "cell_type": "markdown",
   "id": "663790b6",
   "metadata": {},
   "source": [
    "### RSquared"
   ]
  },
  {
   "cell_type": "code",
   "execution_count": 61,
   "id": "02d18837",
   "metadata": {},
   "outputs": [],
   "source": [
    "from sklearn.metrics import r2_score"
   ]
  },
  {
   "cell_type": "code",
   "execution_count": 62,
   "id": "bb470530",
   "metadata": {},
   "outputs": [],
   "source": [
    "dtr_score = r2_score(y_test,y_predict)"
   ]
  },
  {
   "cell_type": "code",
   "execution_count": 63,
   "id": "bb237608",
   "metadata": {},
   "outputs": [
    {
     "data": {
      "text/plain": [
       "0.9826464046247843"
      ]
     },
     "execution_count": 63,
     "metadata": {},
     "output_type": "execute_result"
    }
   ],
   "source": [
    "dtr_score"
   ]
  },
  {
   "cell_type": "markdown",
   "id": "dddfcf01",
   "metadata": {},
   "source": [
    "### Adjusted R Squared"
   ]
  },
  {
   "cell_type": "code",
   "execution_count": 64,
   "id": "92f6f8c7",
   "metadata": {},
   "outputs": [
    {
     "data": {
      "text/plain": [
       "0.9826390389221632"
      ]
     },
     "execution_count": 64,
     "metadata": {},
     "output_type": "execute_result"
    }
   ],
   "source": [
    "1 - (1-dtr_score)*(len(y_test)-1)/(len(y_test)-X_test.shape[1]-1)"
   ]
  },
  {
   "cell_type": "code",
   "execution_count": null,
   "id": "6a0331b2",
   "metadata": {},
   "outputs": [],
   "source": []
  }
 ],
 "metadata": {
  "kernelspec": {
   "display_name": "Python 3 (ipykernel)",
   "language": "python",
   "name": "python3"
  },
  "language_info": {
   "codemirror_mode": {
    "name": "ipython",
    "version": 3
   },
   "file_extension": ".py",
   "mimetype": "text/x-python",
   "name": "python",
   "nbconvert_exporter": "python",
   "pygments_lexer": "ipython3",
   "version": "3.9.7"
  }
 },
 "nbformat": 4,
 "nbformat_minor": 5
}
